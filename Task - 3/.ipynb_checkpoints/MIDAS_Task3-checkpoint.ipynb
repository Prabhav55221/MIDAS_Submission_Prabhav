{
 "cells": [
  {
   "cell_type": "markdown",
   "metadata": {
    "id": "b2A2neTTFQPC"
   },
   "source": [
    "# **MIDAS Task 3**\n",
    "\n",
    "**Please go through the ReadMe for a detailed description**\n",
    "\n",
    "**Method**\n",
    "\n",
    "1.   For this experiment, the entire product category is split into levels. An analysis is conducted to figure out the most important level.\n",
    "2. The levels shortlisted as **the most important**, are Level 1, and a concatenation of Level 1 and 2.\n",
    "3.   TF-IDF is used to tranform the features to vector representations. Feature used is -> A concatencated text blob of Product Name and Description.\n",
    "4.   Multiple models are tested to train the same and other preprocessing methods are described in their sections. \n",
    "\n",
    "\n",
    "**Sections**\n",
    "\n",
    "1. Libraries\n",
    "2. Data Loading and Setup\n",
    "3. Data Preprocessing, EDA and Cleaning\n",
    "    *   Preprocessing\n",
    "    *   EDA to choose categories (Target Selection)\n",
    "    *   Cleaning Preparation\n",
    "4. Data Vectorization\n",
    "5. Training\n",
    "6. Results Analysis\n",
    "\n",
    "\n",
    "\n"
   ]
  },
  {
   "cell_type": "markdown",
   "metadata": {
    "id": "hW1CUIV_Cswu"
   },
   "source": [
    "# **Libraries**"
   ]
  },
  {
   "cell_type": "code",
   "execution_count": null,
   "metadata": {},
   "outputs": [],
   "source": [
    "!pip install nltk\n",
    "!pip install sklearn\n",
    "!pip install gensim"
   ]
  },
  {
   "cell_type": "code",
   "execution_count": 1,
   "metadata": {
    "id": "cCKH74UpCvwT"
   },
   "outputs": [
    {
     "ename": "ModuleNotFoundError",
     "evalue": "No module named 'nltk'",
     "output_type": "error",
     "traceback": [
      "\u001b[1;31m---------------------------------------------------------------------------\u001b[0m",
      "\u001b[1;31mModuleNotFoundError\u001b[0m                       Traceback (most recent call last)",
      "\u001b[1;32m<ipython-input-1-5543b83c6927>\u001b[0m in \u001b[0;36m<module>\u001b[1;34m\u001b[0m\n\u001b[0;32m      4\u001b[0m \u001b[1;32mfrom\u001b[0m \u001b[0mcollections\u001b[0m \u001b[1;32mimport\u001b[0m \u001b[0mCounter\u001b[0m\u001b[1;33m\u001b[0m\u001b[1;33m\u001b[0m\u001b[0m\n\u001b[0;32m      5\u001b[0m \u001b[1;32mimport\u001b[0m \u001b[0mpickle\u001b[0m\u001b[1;33m\u001b[0m\u001b[1;33m\u001b[0m\u001b[0m\n\u001b[1;32m----> 6\u001b[1;33m \u001b[1;32mimport\u001b[0m \u001b[0mnltk\u001b[0m\u001b[1;33m\u001b[0m\u001b[1;33m\u001b[0m\u001b[0m\n\u001b[0m\u001b[0;32m      7\u001b[0m \u001b[1;32mfrom\u001b[0m \u001b[0mnltk\u001b[0m\u001b[1;33m.\u001b[0m\u001b[0mtokenize\u001b[0m \u001b[1;32mimport\u001b[0m \u001b[0mword_tokenize\u001b[0m\u001b[1;33m\u001b[0m\u001b[1;33m\u001b[0m\u001b[0m\n\u001b[0;32m      8\u001b[0m \u001b[1;32mfrom\u001b[0m \u001b[0mnltk\u001b[0m \u001b[1;32mimport\u001b[0m \u001b[0mpos_tag\u001b[0m\u001b[1;33m\u001b[0m\u001b[1;33m\u001b[0m\u001b[0m\n",
      "\u001b[1;31mModuleNotFoundError\u001b[0m: No module named 'nltk'"
     ]
    }
   ],
   "source": [
    "import pandas as pd\n",
    "import numpy as np\n",
    "import matplotlib.pyplot as plt\n",
    "from collections import Counter\n",
    "import pickle\n",
    "import nltk\n",
    "from nltk.tokenize import word_tokenize\n",
    "from nltk import pos_tag\n",
    "from nltk.corpus import stopwords\n",
    "from nltk.stem import WordNetLemmatizer\n",
    "from sklearn.preprocessing import LabelEncoder\n",
    "from collections import defaultdict\n",
    "from nltk.corpus import wordnet as wn\n",
    "import re\n",
    "from tqdm import tqdm\n",
    "from sklearn.feature_extraction.text import TfidfVectorizer\n",
    "from sklearn import model_selection, naive_bayes, svm\n",
    "from sklearn.metrics import accuracy_score, classification_report\n",
    "from sklearn.model_selection import GridSearchCV\n",
    "from sklearn.svm import SVC\n",
    "from gensim.models import Word2Vec\n",
    "import time\n",
    "\n",
    "nltk.download('punkt')\n",
    "nltk.download('averaged_perceptron_tagger')\n",
    "nltk.download('wordnet')\n",
    "nltk.download('stopwords')"
   ]
  },
  {
   "cell_type": "code",
   "execution_count": 93,
   "metadata": {
    "id": "MG-iZbLNQCUz"
   },
   "outputs": [],
   "source": [
    "'''Setting a random seed'''\n",
    "\n",
    "np.random.seed(500)"
   ]
  },
  {
   "cell_type": "markdown",
   "metadata": {
    "id": "D-mQT1HJCz6t"
   },
   "source": [
    "# **Data Loading and Setting Up**\n"
   ]
  },
  {
   "cell_type": "code",
   "execution_count": 94,
   "metadata": {
    "colab": {
     "base_uri": "https://localhost:8080/",
     "height": 195
    },
    "id": "4EpnDv1VC5LP",
    "outputId": "b44bd988-06ff-4f10-86ae-9c846c5dba83"
   },
   "outputs": [
    {
     "data": {
      "text/html": [
       "<div>\n",
       "<style scoped>\n",
       "    .dataframe tbody tr th:only-of-type {\n",
       "        vertical-align: middle;\n",
       "    }\n",
       "\n",
       "    .dataframe tbody tr th {\n",
       "        vertical-align: top;\n",
       "    }\n",
       "\n",
       "    .dataframe thead th {\n",
       "        text-align: right;\n",
       "    }\n",
       "</style>\n",
       "<table border=\"1\" class=\"dataframe\">\n",
       "  <thead>\n",
       "    <tr style=\"text-align: right;\">\n",
       "      <th></th>\n",
       "      <th>product_name</th>\n",
       "      <th>product_category_tree</th>\n",
       "      <th>description</th>\n",
       "    </tr>\n",
       "  </thead>\n",
       "  <tbody>\n",
       "    <tr>\n",
       "      <th>0</th>\n",
       "      <td>Alisha Solid Women's Cycling Shorts</td>\n",
       "      <td>[\"Clothing &gt;&gt; Women's Clothing &gt;&gt; Lingerie, Sl...</td>\n",
       "      <td>Key Features of Alisha Solid Women's Cycling S...</td>\n",
       "    </tr>\n",
       "    <tr>\n",
       "      <th>1</th>\n",
       "      <td>FabHomeDecor Fabric Double Sofa Bed</td>\n",
       "      <td>[\"Furniture &gt;&gt; Living Room Furniture &gt;&gt; Sofa B...</td>\n",
       "      <td>FabHomeDecor Fabric Double Sofa Bed (Finish Co...</td>\n",
       "    </tr>\n",
       "    <tr>\n",
       "      <th>2</th>\n",
       "      <td>AW Bellies</td>\n",
       "      <td>[\"Footwear &gt;&gt; Women's Footwear &gt;&gt; Ballerinas &gt;...</td>\n",
       "      <td>Key Features of AW Bellies Sandals Wedges Heel...</td>\n",
       "    </tr>\n",
       "    <tr>\n",
       "      <th>3</th>\n",
       "      <td>Alisha Solid Women's Cycling Shorts</td>\n",
       "      <td>[\"Clothing &gt;&gt; Women's Clothing &gt;&gt; Lingerie, Sl...</td>\n",
       "      <td>Key Features of Alisha Solid Women's Cycling S...</td>\n",
       "    </tr>\n",
       "    <tr>\n",
       "      <th>4</th>\n",
       "      <td>Sicons All Purpose Arnica Dog Shampoo</td>\n",
       "      <td>[\"Pet Supplies &gt;&gt; Grooming &gt;&gt; Skin &amp; Coat Care...</td>\n",
       "      <td>Specifications of Sicons All Purpose Arnica Do...</td>\n",
       "    </tr>\n",
       "  </tbody>\n",
       "</table>\n",
       "</div>"
      ],
      "text/plain": [
       "                            product_name  ...                                        description\n",
       "0    Alisha Solid Women's Cycling Shorts  ...  Key Features of Alisha Solid Women's Cycling S...\n",
       "1    FabHomeDecor Fabric Double Sofa Bed  ...  FabHomeDecor Fabric Double Sofa Bed (Finish Co...\n",
       "2                             AW Bellies  ...  Key Features of AW Bellies Sandals Wedges Heel...\n",
       "3    Alisha Solid Women's Cycling Shorts  ...  Key Features of Alisha Solid Women's Cycling S...\n",
       "4  Sicons All Purpose Arnica Dog Shampoo  ...  Specifications of Sicons All Purpose Arnica Do...\n",
       "\n",
       "[5 rows x 3 columns]"
      ]
     },
     "execution_count": 94,
     "metadata": {
      "tags": []
     },
     "output_type": "execute_result"
    }
   ],
   "source": [
    "'''\n",
    "LOADING THE DATA AND VISUALISING THE TABLE\n",
    "Specifying the field to load. Only required fields are loaded\n",
    "'''\n",
    "\n",
    "fields = ['product_name', 'description', 'product_category_tree']\n",
    "\n",
    "data = pd.read_csv('/content/drive/MyDrive/MIDAS-Task3-Utils/flipkart_com-ecommerce_sample - flipkart_com-ecommerce_sample - flipkart_com-ecommerce_sample.csv', usecols=fields)\n",
    "data.head()"
   ]
  },
  {
   "cell_type": "code",
   "execution_count": 95,
   "metadata": {
    "colab": {
     "base_uri": "https://localhost:8080/",
     "height": 195
    },
    "id": "bys-KW91JnzE",
    "outputId": "bbefe7e3-9048-4b32-fd77-19477f2f0342"
   },
   "outputs": [
    {
     "data": {
      "text/html": [
       "<div>\n",
       "<style scoped>\n",
       "    .dataframe tbody tr th:only-of-type {\n",
       "        vertical-align: middle;\n",
       "    }\n",
       "\n",
       "    .dataframe tbody tr th {\n",
       "        vertical-align: top;\n",
       "    }\n",
       "\n",
       "    .dataframe thead th {\n",
       "        text-align: right;\n",
       "    }\n",
       "</style>\n",
       "<table border=\"1\" class=\"dataframe\">\n",
       "  <thead>\n",
       "    <tr style=\"text-align: right;\">\n",
       "      <th></th>\n",
       "      <th>product_category_tree</th>\n",
       "      <th>NameDesc</th>\n",
       "    </tr>\n",
       "  </thead>\n",
       "  <tbody>\n",
       "    <tr>\n",
       "      <th>0</th>\n",
       "      <td>[\"Clothing &gt;&gt; Women's Clothing &gt;&gt; Lingerie, Sl...</td>\n",
       "      <td>Alisha Solid Women's Cycling ShortsKey Feature...</td>\n",
       "    </tr>\n",
       "    <tr>\n",
       "      <th>1</th>\n",
       "      <td>[\"Furniture &gt;&gt; Living Room Furniture &gt;&gt; Sofa B...</td>\n",
       "      <td>FabHomeDecor Fabric Double Sofa BedFabHomeDeco...</td>\n",
       "    </tr>\n",
       "    <tr>\n",
       "      <th>2</th>\n",
       "      <td>[\"Footwear &gt;&gt; Women's Footwear &gt;&gt; Ballerinas &gt;...</td>\n",
       "      <td>AW BelliesKey Features of AW Bellies Sandals W...</td>\n",
       "    </tr>\n",
       "    <tr>\n",
       "      <th>3</th>\n",
       "      <td>[\"Clothing &gt;&gt; Women's Clothing &gt;&gt; Lingerie, Sl...</td>\n",
       "      <td>Alisha Solid Women's Cycling ShortsKey Feature...</td>\n",
       "    </tr>\n",
       "    <tr>\n",
       "      <th>4</th>\n",
       "      <td>[\"Pet Supplies &gt;&gt; Grooming &gt;&gt; Skin &amp; Coat Care...</td>\n",
       "      <td>Sicons All Purpose Arnica Dog ShampooSpecifica...</td>\n",
       "    </tr>\n",
       "  </tbody>\n",
       "</table>\n",
       "</div>"
      ],
      "text/plain": [
       "                               product_category_tree                                           NameDesc\n",
       "0  [\"Clothing >> Women's Clothing >> Lingerie, Sl...  Alisha Solid Women's Cycling ShortsKey Feature...\n",
       "1  [\"Furniture >> Living Room Furniture >> Sofa B...  FabHomeDecor Fabric Double Sofa BedFabHomeDeco...\n",
       "2  [\"Footwear >> Women's Footwear >> Ballerinas >...  AW BelliesKey Features of AW Bellies Sandals W...\n",
       "3  [\"Clothing >> Women's Clothing >> Lingerie, Sl...  Alisha Solid Women's Cycling ShortsKey Feature...\n",
       "4  [\"Pet Supplies >> Grooming >> Skin & Coat Care...  Sicons All Purpose Arnica Dog ShampooSpecifica..."
      ]
     },
     "execution_count": 95,
     "metadata": {
      "tags": []
     },
     "output_type": "execute_result"
    }
   ],
   "source": [
    "'''\n",
    "Combining product_name and description to make the input feature text blob. Removing both after cojoining.\n",
    "'''\n",
    "\n",
    "data['NameDesc'] = data['product_name'] + data['description']\n",
    "data = data.drop(['description', 'product_name'], axis=1)\n",
    "data.product_category_tree = data.product_category_tree.astype(str)\n",
    "\n",
    "data.head()"
   ]
  },
  {
   "cell_type": "code",
   "execution_count": 96,
   "metadata": {
    "colab": {
     "base_uri": "https://localhost:8080/"
    },
    "id": "7Yz4iGYFFOdx",
    "outputId": "1790d31e-77ee-4cd4-d356-59d2cf26fd32"
   },
   "outputs": [
    {
     "name": "stdout",
     "output_type": "stream",
     "text": [
      "Dataframe Shape: (20000, 2)\n",
      "Uniques Categories: 6466\n",
      "\n",
      "Unique Categories Count:\n",
      "\n",
      "5 most frequent labels:\n",
      "('[\"Jewellery >> Necklaces & Chains >> Necklaces\"]', 1567)\n",
      "('[\"Jewellery >> Rings\"]', 710)\n",
      "('[\"Automotive >> Accessories & Spare parts >> Car Interior & Exterior >> Car Interior >> Car Mats\"]', 522)\n",
      "('[\"Jewellery >> Bangles, Bracelets & Armlets >> Bangles\"]', 430)\n",
      "('[\"Tools & Hardware >> Tools >> Gardening Tools >> Plant Containers & Sets >> Plant Container Sets\"]', 332)\n",
      "\n",
      " 5 least frequent labels:\n",
      "('[\"Clothing >> Women\\'s Clothing >> Western Wear >> Dresses & Skirts >> Dresses >> HUGO CHAVEZ Dresses\"]', 1)\n",
      "('[\"Clothing >> Women\\'s Clothing >> Western Wear >> Dresses & Skirts >> Dresses >> Kashana Fashions Dresses\"]', 1)\n",
      "('[\"Clothing >> Women\\'s Clothing >> Western Wear >> Dresses & Skirts >> Dresses >> Indibox Dresses\"]', 1)\n",
      "('[\"Baby Care >> Baby & Kids Gifts >> Stickers >> Oren Empower Stickers\"]', 1)\n",
      "('[\"Baby Care >> Baby & Kids Gifts >> Stickers >> Fun To See Stickers\"]', 1)\n"
     ]
    }
   ],
   "source": [
    "'''\n",
    "Observing Basic Features of Table\n",
    "Note that the unique categories does not take into consideration the levels of the categorisation.\n",
    "It treat the entire cell as  a unique category.\n",
    "'''\n",
    "\n",
    "print('Dataframe Shape:', data.shape)\n",
    "print('Uniques Categories:', len(data['product_category_tree'].unique()))\n",
    "\n",
    "print()\n",
    "print('Unique Categories Count:')\n",
    "print()\n",
    "\n",
    "label_count = Counter(data['product_category_tree']).most_common()\n",
    "print('5 most frequent labels:')\n",
    "print(*label_count[:5], sep = \"\\n\")\n",
    "print('\\n 5 least frequent labels:')\n",
    "print(*label_count[-5:], sep = \"\\n\")"
   ]
  },
  {
   "cell_type": "markdown",
   "metadata": {
    "id": "exeHSDSqNAfQ"
   },
   "source": [
    "# **Inferences**\n",
    "\n",
    "We can observe that using the complete product tree as a unique class is impossible due to extreme data imbalance. Two other methods could be:\n",
    "\n",
    "1. Train an ensemble of classifiers to predict at every level of the category. \n",
    "2. Identify the most important category and predict on that (As specified by the Task)"
   ]
  },
  {
   "cell_type": "markdown",
   "metadata": {
    "id": "UOwPWcZrQVtH"
   },
   "source": [
    "# **Data Preprocessing, Exploratory Analysis and Cleaning**"
   ]
  },
  {
   "cell_type": "markdown",
   "metadata": {
    "id": "YAV-q-UO3i_D"
   },
   "source": [
    "#### **Data Preprocessing**"
   ]
  },
  {
   "cell_type": "code",
   "execution_count": 97,
   "metadata": {
    "colab": {
     "base_uri": "https://localhost:8080/"
    },
    "id": "OOdXRQdQo7qM",
    "outputId": "dcd11c2a-cdc4-49b5-83c7-d013a82ee3f9"
   },
   "outputs": [
    {
     "name": "stdout",
     "output_type": "stream",
     "text": [
      "[\"Clothing >> Women's Clothing >> Lingerie, Sleep & Swimwear >> Shorts >> Alisha Shorts >> Alisha Solid Women's Cycling Shorts\"] <class 'str'>\n",
      "\n",
      "Clothing\n",
      "Women's Clothing\n",
      "Lingerie, Sleep & Swimwear\n",
      "Shorts\n",
      "Alisha Shorts\n",
      "Alisha Solid Women's Cycling Shorts\n"
     ]
    }
   ],
   "source": [
    "'''\n",
    "Performing a sample split on the category tree to check.\n",
    "'''\n",
    "\n",
    "sample = data.product_category_tree[0]\n",
    "print(sample, type(sample))\n",
    "\n",
    "sample = sample[2:]\n",
    "sample = sample[:-2]\n",
    "sample = sample.split(sep = ' >> ')\n",
    "\n",
    "print()\n",
    "for i in sample:\n",
    "  print(i)"
   ]
  },
  {
   "cell_type": "code",
   "execution_count": 98,
   "metadata": {
    "colab": {
     "base_uri": "https://localhost:8080/"
    },
    "id": "D5eyNT7isNxr",
    "outputId": "19462929-cb09-4367-daeb-00ac1d0ecb1f"
   },
   "outputs": [
    {
     "name": "stderr",
     "output_type": "stream",
     "text": [
      "100%|██████████| 19998/19998 [00:00<00:00, 46613.92it/s]\n"
     ]
    }
   ],
   "source": [
    "'''\n",
    "Defining a function to split category tree into levels of categories.\n",
    "The function returns the list of lists and the max depth.\n",
    "\n",
    "max_levels => The deepest tree depth\n",
    "level_list => List of lists containing the split list of each product.\n",
    "'''\n",
    "\n",
    "# Remove blank rows if any.\n",
    "data.dropna(inplace=True, how='any')\n",
    "\n",
    "def make_levels(data):\n",
    "  level_list = []\n",
    "  max_levels = 0\n",
    "\n",
    "  for i in tqdm(data.product_category_tree):\n",
    "    # Split into levels\n",
    "    temp = i[2:]\n",
    "    temp = temp[:-2]\n",
    "    temp = temp.split(sep = ' >> ')\n",
    "\n",
    "    # Update max levels\n",
    "    max_levels = max(len(temp), max_levels)\n",
    "    \n",
    "    # Pad list with 'None' upto max_levels length\n",
    "    temp += ['None'] * (max_levels - len(temp))\n",
    "    \n",
    "    # Add to level_list\n",
    "    level_list.append(temp)\n",
    "\n",
    "  return level_list, max_levels\n",
    "\n",
    "level_list, max_levels = make_levels(data)"
   ]
  },
  {
   "cell_type": "code",
   "execution_count": 99,
   "metadata": {
    "colab": {
     "base_uri": "https://localhost:8080/",
     "height": 279
    },
    "id": "EY_8VfISyuuB",
    "outputId": "7b3a6b87-a57e-442a-f191-1f6308a29659"
   },
   "outputs": [
    {
     "data": {
      "text/html": [
       "<div>\n",
       "<style scoped>\n",
       "    .dataframe tbody tr th:only-of-type {\n",
       "        vertical-align: middle;\n",
       "    }\n",
       "\n",
       "    .dataframe tbody tr th {\n",
       "        vertical-align: top;\n",
       "    }\n",
       "\n",
       "    .dataframe thead th {\n",
       "        text-align: right;\n",
       "    }\n",
       "</style>\n",
       "<table border=\"1\" class=\"dataframe\">\n",
       "  <thead>\n",
       "    <tr style=\"text-align: right;\">\n",
       "      <th></th>\n",
       "      <th>Level1</th>\n",
       "      <th>Level2</th>\n",
       "      <th>Level3</th>\n",
       "      <th>Level4</th>\n",
       "      <th>Level5</th>\n",
       "      <th>Level6</th>\n",
       "      <th>Level7</th>\n",
       "      <th>Level8</th>\n",
       "      <th>NameDesc</th>\n",
       "    </tr>\n",
       "  </thead>\n",
       "  <tbody>\n",
       "    <tr>\n",
       "      <th>0</th>\n",
       "      <td>Clothing</td>\n",
       "      <td>Women's Clothing</td>\n",
       "      <td>Lingerie, Sleep &amp; Swimwear</td>\n",
       "      <td>Shorts</td>\n",
       "      <td>Alisha Shorts</td>\n",
       "      <td>Alisha Solid Women's Cycling Shorts</td>\n",
       "      <td>None</td>\n",
       "      <td>None</td>\n",
       "      <td>Alisha Solid Women's Cycling ShortsKey Feature...</td>\n",
       "    </tr>\n",
       "    <tr>\n",
       "      <th>1</th>\n",
       "      <td>Furniture</td>\n",
       "      <td>Living Room Furniture</td>\n",
       "      <td>Sofa Beds &amp; Futons</td>\n",
       "      <td>FabHomeDecor Fabric Double Sofa Bed (Finish Co...</td>\n",
       "      <td>None</td>\n",
       "      <td>None</td>\n",
       "      <td>None</td>\n",
       "      <td>None</td>\n",
       "      <td>FabHomeDecor Fabric Double Sofa BedFabHomeDeco...</td>\n",
       "    </tr>\n",
       "    <tr>\n",
       "      <th>2</th>\n",
       "      <td>Footwear</td>\n",
       "      <td>Women's Footwear</td>\n",
       "      <td>Ballerinas</td>\n",
       "      <td>AW Bellies</td>\n",
       "      <td>None</td>\n",
       "      <td>None</td>\n",
       "      <td>None</td>\n",
       "      <td>None</td>\n",
       "      <td>AW BelliesKey Features of AW Bellies Sandals W...</td>\n",
       "    </tr>\n",
       "    <tr>\n",
       "      <th>3</th>\n",
       "      <td>Clothing</td>\n",
       "      <td>Women's Clothing</td>\n",
       "      <td>Lingerie, Sleep &amp; Swimwear</td>\n",
       "      <td>Shorts</td>\n",
       "      <td>Alisha Shorts</td>\n",
       "      <td>Alisha Solid Women's Cycling Shorts</td>\n",
       "      <td>None</td>\n",
       "      <td>None</td>\n",
       "      <td>Alisha Solid Women's Cycling ShortsKey Feature...</td>\n",
       "    </tr>\n",
       "    <tr>\n",
       "      <th>4</th>\n",
       "      <td>Pet Supplies</td>\n",
       "      <td>Grooming</td>\n",
       "      <td>Skin &amp; Coat Care</td>\n",
       "      <td>Shampoo</td>\n",
       "      <td>Sicons All Purpose Arnica Dog Shampoo (500 ml)</td>\n",
       "      <td>None</td>\n",
       "      <td>None</td>\n",
       "      <td>None</td>\n",
       "      <td>Sicons All Purpose Arnica Dog ShampooSpecifica...</td>\n",
       "    </tr>\n",
       "  </tbody>\n",
       "</table>\n",
       "</div>"
      ],
      "text/plain": [
       "         Level1  ...                                           NameDesc\n",
       "0      Clothing  ...  Alisha Solid Women's Cycling ShortsKey Feature...\n",
       "1     Furniture  ...  FabHomeDecor Fabric Double Sofa BedFabHomeDeco...\n",
       "2      Footwear  ...  AW BelliesKey Features of AW Bellies Sandals W...\n",
       "3      Clothing  ...  Alisha Solid Women's Cycling ShortsKey Feature...\n",
       "4  Pet Supplies  ...  Sicons All Purpose Arnica Dog ShampooSpecifica...\n",
       "\n",
       "[5 rows x 9 columns]"
      ]
     },
     "execution_count": 99,
     "metadata": {
      "tags": []
     },
     "output_type": "execute_result"
    }
   ],
   "source": [
    "'''\n",
    "Defining a new dataset with 8 levels (Max Depth) for analysis\n",
    "'''\n",
    "\n",
    "cols = ['Level1', 'Level2', 'Level3', 'Level4', 'Level5', 'Level6', 'Level7', 'Level8']\n",
    "df = pd.DataFrame(level_list, columns = cols)\n",
    "df['NameDesc'] = data['NameDesc']\n",
    "\n",
    "df.head()"
   ]
  },
  {
   "cell_type": "markdown",
   "metadata": {
    "id": "5nDF3zkl3GEn"
   },
   "source": [
    "### **Data Visualisation**"
   ]
  },
  {
   "cell_type": "code",
   "execution_count": 100,
   "metadata": {
    "colab": {
     "base_uri": "https://localhost:8080/"
    },
    "id": "osRAoHW-z3T_",
    "outputId": "beb865e2-7a8e-42c8-e3df-0e739fae95da"
   },
   "outputs": [
    {
     "name": "stdout",
     "output_type": "stream",
     "text": [
      "265\n",
      "218\n",
      "876\n",
      "\n",
      "75.46415094339622\n",
      "91.73394495412845\n",
      "22.828767123287673\n"
     ]
    }
   ],
   "source": [
    "'''\n",
    "Observing the distribution of each Level to observe data imbalance and identify important categories.\n",
    "'''\n",
    "\n",
    "#Number of Unique Categories in first three levels\n",
    "print(df['Level1'].nunique())\n",
    "print(df['Level2'].nunique())\n",
    "print(df['Level3'].nunique())\n",
    "\n",
    "print()\n",
    "\n",
    "# Mean of frequency of each category in first three levels\n",
    "print(df['Level1'].value_counts().mean())\n",
    "print(df['Level2'].value_counts().mean())\n",
    "print(df['Level3'].value_counts().mean())"
   ]
  },
  {
   "cell_type": "code",
   "execution_count": 101,
   "metadata": {
    "colab": {
     "base_uri": "https://localhost:8080/",
     "height": 462
    },
    "id": "gzwCgkI23cwy",
    "outputId": "fd476a8e-8885-48f4-e0a9-f5987b6de9fd"
   },
   "outputs": [
    {
     "name": "stdout",
     "output_type": "stream",
     "text": [
      "Ratio of first 25:  98.11981198119813\n",
      "\n"
     ]
    },
    {
     "data": {
      "text/plain": [
       "<matplotlib.axes._subplots.AxesSubplot at 0x7f285db0af50>"
      ]
     },
     "execution_count": 101,
     "metadata": {
      "tags": []
     },
     "output_type": "execute_result"
    },
    {
     "data": {
      "image/png": "[encoded data removed]",
      "text/plain": [
       "<Figure size 432x288 with 1 Axes>"
      ]
     },
     "metadata": {
      "needs_background": "light",
      "tags": []
     },
     "output_type": "display_data"
    }
   ],
   "source": [
    "'''\n",
    "Top 25 categories of Level 1\n",
    "'''\n",
    "\n",
    "print('Ratio of first 25: ', (df['Level1'].value_counts()[:25].sum()/df['Level1'].count()) * 100)\n",
    "print()\n",
    "\n",
    "plt = df['Level1'].value_counts()[:25].plot(kind='bar')\n",
    "plt"
   ]
  },
  {
   "cell_type": "code",
   "execution_count": 102,
   "metadata": {
    "colab": {
     "base_uri": "https://localhost:8080/",
     "height": 434
    },
    "id": "dCrHVDQi_mvG",
    "outputId": "a51a0341-7115-4b4d-bf0e-c7ebaf646e82"
   },
   "outputs": [
    {
     "name": "stdout",
     "output_type": "stream",
     "text": [
      "Ratio of first 25:  82.96829682968297\n",
      "\n"
     ]
    },
    {
     "data": {
      "text/plain": [
       "<matplotlib.axes._subplots.AxesSubplot at 0x7f286444dad0>"
      ]
     },
     "execution_count": 102,
     "metadata": {
      "tags": []
     },
     "output_type": "execute_result"
    },
    {
     "data": {
      "image/png": "[encoded data removed]",
      "text/plain": [
       "<Figure size 432x288 with 1 Axes>"
      ]
     },
     "metadata": {
      "needs_background": "light",
      "tags": []
     },
     "output_type": "display_data"
    }
   ],
   "source": [
    "'''\n",
    "Top 25 categories of Level 2\n",
    "'''\n",
    "\n",
    "print('Ratio of first 25: ', (df['Level2'].value_counts()[:25].sum()/df['Level2'].count()) * 100)\n",
    "print()\n",
    "\n",
    "plt = df['Level2'].value_counts()[:25].plot(kind='bar')\n",
    "plt"
   ]
  },
  {
   "cell_type": "code",
   "execution_count": 103,
   "metadata": {
    "colab": {
     "base_uri": "https://localhost:8080/",
     "height": 546
    },
    "id": "vokQsjci_w7t",
    "outputId": "8d543658-09a7-4c69-d237-d8dea3edfb80"
   },
   "outputs": [
    {
     "name": "stdout",
     "output_type": "stream",
     "text": [
      "Ratio of last 20:  0.1000100010001\n",
      "\n"
     ]
    },
    {
     "data": {
      "text/plain": [
       "<matplotlib.axes._subplots.AxesSubplot at 0x7f2864565c10>"
      ]
     },
     "execution_count": 103,
     "metadata": {
      "tags": []
     },
     "output_type": "execute_result"
    },
    {
     "data": {
      "image/png": "[encoded data removed]",
      "text/plain": [
       "<Figure size 432x288 with 1 Axes>"
      ]
     },
     "metadata": {
      "needs_background": "light",
      "tags": []
     },
     "output_type": "display_data"
    }
   ],
   "source": [
    "'''\n",
    "Bottom 20 categories of Level 1\n",
    "'''\n",
    "\n",
    "print('Ratio of last 20: ', (df['Level1'].value_counts()[-20:].sum()/df['Level1'].count()) * 100)\n",
    "print()\n",
    "\n",
    "plt = df['Level1'].value_counts()[-20:].plot(kind='bar')\n",
    "plt"
   ]
  },
  {
   "cell_type": "code",
   "execution_count": 104,
   "metadata": {
    "colab": {
     "base_uri": "https://localhost:8080/",
     "height": 574
    },
    "id": "geMe1WPqA0Q4",
    "outputId": "dbe775fa-1a59-4277-c146-882f47d6e94f"
   },
   "outputs": [
    {
     "name": "stdout",
     "output_type": "stream",
     "text": [
      "456\n",
      "Ratio of first 30:  84.99349934993499\n",
      "\n"
     ]
    },
    {
     "data": {
      "text/plain": [
       "<matplotlib.axes._subplots.AxesSubplot at 0x7f285c86b0d0>"
      ]
     },
     "execution_count": 104,
     "metadata": {
      "tags": []
     },
     "output_type": "execute_result"
    },
    {
     "data": {
      "image/png": "[encoded data removed]",
      "text/plain": [
       "<Figure size 432x288 with 1 Axes>"
      ]
     },
     "metadata": {
      "needs_background": "light",
      "tags": []
     },
     "output_type": "display_data"
    }
   ],
   "source": [
    "'''\n",
    "Attempting to combine Level 1 and Level 2 into one category\n",
    "'''\n",
    "\n",
    "df['NewCat'] = df['Level1'] + ' ' + df['Level2']\n",
    "print(df['NewCat'].nunique())\n",
    "\n",
    "'''\n",
    "Top 30 categories of Level 1 + Level 2\n",
    "'''\n",
    "\n",
    "print('Ratio of first 30: ', (df['NewCat'].value_counts()[:30].sum()/df['NewCat'].count()) * 100)\n",
    "print()\n",
    "\n",
    "plt = df['NewCat'].value_counts()[:30].plot(kind='bar')\n",
    "plt"
   ]
  },
  {
   "cell_type": "markdown",
   "metadata": {
    "id": "O12wgzgJ_95J"
   },
   "source": [
    "# **Inferences**\n",
    "\n",
    "1. 98% of the data, from a frequency point of view, is concentrated in the top 25 categories of the first label. All others have < 10 samples per category and are not of any use.\n",
    "2. 83% of the data, in a similar manner is placed in the top twenty of the second category.\n",
    "3. The last 3% of Level 1 of data is well below the mean of 75 occurences, and will be ignored to prevent data imabalance. \n",
    "4. Even with the first twenty five categories of level 1 as the target, data imbalance still presents.\n",
    "5. We also observe, that on combining only level 1 and level 2 into a new primary category, the data imbalance reduces for the first 30 categories.\n",
    "\n",
    "**Proposed Targets**\n",
    "\n",
    "1. Attempt Classification on ONLY LEVEL 1 (Top 25 Cats). This Dataset is hereby called data_a.\n",
    "2. Attempt Classification on LEVEL 1 + LEVEL 2 (Top 30 - Cats). This Dataset is hereby called data_b."
   ]
  },
  {
   "cell_type": "markdown",
   "metadata": {
    "id": "2mu51_HD3dqN"
   },
   "source": [
    "#### **Data Cleaning and Training Prep**"
   ]
  },
  {
   "cell_type": "code",
   "execution_count": 74,
   "metadata": {
    "colab": {
     "base_uri": "https://localhost:8080/",
     "height": 195
    },
    "id": "6qsmWiyTsmLa",
    "outputId": "d7e01ce4-1717-43df-b643-a91588db996b"
   },
   "outputs": [
    {
     "data": {
      "text/html": [
       "<div>\n",
       "<style scoped>\n",
       "    .dataframe tbody tr th:only-of-type {\n",
       "        vertical-align: middle;\n",
       "    }\n",
       "\n",
       "    .dataframe tbody tr th {\n",
       "        vertical-align: top;\n",
       "    }\n",
       "\n",
       "    .dataframe thead th {\n",
       "        text-align: right;\n",
       "    }\n",
       "</style>\n",
       "<table border=\"1\" class=\"dataframe\">\n",
       "  <thead>\n",
       "    <tr style=\"text-align: right;\">\n",
       "      <th></th>\n",
       "      <th>Level1</th>\n",
       "      <th>Level2</th>\n",
       "      <th>NameDesc</th>\n",
       "      <th>NewCat</th>\n",
       "    </tr>\n",
       "  </thead>\n",
       "  <tbody>\n",
       "    <tr>\n",
       "      <th>0</th>\n",
       "      <td>Clothing</td>\n",
       "      <td>Women's Clothing</td>\n",
       "      <td>Alisha Solid Women's Cycling ShortsKey Feature...</td>\n",
       "      <td>Clothing Women's Clothing</td>\n",
       "    </tr>\n",
       "    <tr>\n",
       "      <th>1</th>\n",
       "      <td>Furniture</td>\n",
       "      <td>Living Room Furniture</td>\n",
       "      <td>FabHomeDecor Fabric Double Sofa BedFabHomeDeco...</td>\n",
       "      <td>Furniture Living Room Furniture</td>\n",
       "    </tr>\n",
       "    <tr>\n",
       "      <th>2</th>\n",
       "      <td>Footwear</td>\n",
       "      <td>Women's Footwear</td>\n",
       "      <td>AW BelliesKey Features of AW Bellies Sandals W...</td>\n",
       "      <td>Footwear Women's Footwear</td>\n",
       "    </tr>\n",
       "    <tr>\n",
       "      <th>3</th>\n",
       "      <td>Clothing</td>\n",
       "      <td>Women's Clothing</td>\n",
       "      <td>Alisha Solid Women's Cycling ShortsKey Feature...</td>\n",
       "      <td>Clothing Women's Clothing</td>\n",
       "    </tr>\n",
       "    <tr>\n",
       "      <th>4</th>\n",
       "      <td>Pet Supplies</td>\n",
       "      <td>Grooming</td>\n",
       "      <td>Sicons All Purpose Arnica Dog ShampooSpecifica...</td>\n",
       "      <td>Pet Supplies Grooming</td>\n",
       "    </tr>\n",
       "  </tbody>\n",
       "</table>\n",
       "</div>"
      ],
      "text/plain": [
       "         Level1  ...                           NewCat\n",
       "0      Clothing  ...        Clothing Women's Clothing\n",
       "1     Furniture  ...  Furniture Living Room Furniture\n",
       "2      Footwear  ...        Footwear Women's Footwear\n",
       "3      Clothing  ...        Clothing Women's Clothing\n",
       "4  Pet Supplies  ...            Pet Supplies Grooming\n",
       "\n",
       "[5 rows x 4 columns]"
      ]
     },
     "execution_count": 74,
     "metadata": {
      "tags": []
     },
     "output_type": "execute_result"
    }
   ],
   "source": [
    "'''\n",
    "Removing unnecesary columns.\n",
    "'''\n",
    "\n",
    "df.drop(['Level3', 'Level4', 'Level5', 'Level6', 'Level7', 'Level8'], axis=1, inplace = True)\n",
    "data = df\n",
    "data.head()"
   ]
  },
  {
   "cell_type": "code",
   "execution_count": 75,
   "metadata": {
    "id": "JdmUx3X8Qgqz"
   },
   "outputs": [],
   "source": [
    "'''\n",
    "Cleaning of features (Name + Description)\n",
    "'''\n",
    "\n",
    "# Step 1 : Remove blank rows if any.\n",
    "data.dropna(inplace=True, how='any')\n",
    "\n",
    "# Step 2 : Change all the text to lower case.\n",
    "data['NameDesc'] = [entry.lower() for entry in data['NameDesc']]\n",
    "\n",
    "# Step 3 :Punctuations removal.\n",
    "data['NameDesc'] = [re.sub(r'[^\\w\\s]','',s) for s in data['NameDesc']]\n",
    "\n",
    "# Step 4 : Tokenization : In this each entry in the corpus will be broken into set of words\n",
    "data['NameDesc'] = [word_tokenize(entry) for entry in data['NameDesc']]"
   ]
  },
  {
   "cell_type": "code",
   "execution_count": 76,
   "metadata": {
    "id": "U14do3QyUuQG"
   },
   "outputs": [],
   "source": [
    "# Step 5: Removing stop words, apply Word Lemmatizer\n",
    "# WordNetLemmatizer requires Pos tags to understand if the word is noun or verb or adjective etc. \n",
    "\n",
    "tag_map = defaultdict(lambda : wn.NOUN)\n",
    "tag_map['J'] = wn.ADJ\n",
    "tag_map['V'] = wn.VERB\n",
    "tag_map['R'] = wn.ADV\n",
    "\n",
    "for index,entry in enumerate(data['NameDesc']):\n",
    "    # Declaring Empty List to store the final words \n",
    "    Final_words = []\n",
    "    # Initializing WordNetLemmatizer()\n",
    "    word_Lemmatized = WordNetLemmatizer()\n",
    "    # pos_tag function below will provide the 'tag' i.e if the word is Noun(N) or Verb(V) or something else.\n",
    "    for word, tag in pos_tag(entry):\n",
    "        # Below condition is to check for Stop words and consider only alphabets\n",
    "        if word not in stopwords.words('english') and word.isalpha():\n",
    "            word_Final = word_Lemmatized.lemmatize(word,tag_map[tag[0]])\n",
    "            Final_words.append(word_Final)\n",
    "    # The final processed set of words for each iteration will be stored in 'text_final'\n",
    "    data.loc[index,'text'] = str(Final_words)"
   ]
  },
  {
   "cell_type": "code",
   "execution_count": 77,
   "metadata": {
    "colab": {
     "base_uri": "https://localhost:8080/",
     "height": 249
    },
    "id": "gEQfgNvLucYt",
    "outputId": "b1b71c8c-2252-465b-8e21-2b30904bb406"
   },
   "outputs": [
    {
     "name": "stdout",
     "output_type": "stream",
     "text": [
      "['Clothing', 'Jewellery', 'Footwear', 'Mobiles & Accessories', 'Automotive', 'Home Decor & Festive Needs', 'Beauty and Personal Care', 'Home Furnishing', 'Kitchen & Dining', 'Computers', 'Watches', 'Baby Care', 'Tools & Hardware', 'Toys & School Supplies', 'Pens & Stationery', 'Bags, Wallets & Belts', 'Furniture', 'Sports & Fitness', 'Cameras & Accessories', 'Home Improvement', 'Health & Personal Care Appliances', 'Sunglasses', 'Gaming', 'Pet Supplies', 'Home & Kitchen']\n",
      "[\"Clothing Women's Clothing\", \"Clothing Men's Clothing\", 'Jewellery Necklaces & Chains', 'Automotive Accessories & Spare parts', 'Mobiles & Accessories Tablet Accessories', \"Footwear Women's Footwear\", 'Jewellery Rings', 'Jewellery Bangles, Bracelets & Armlets', 'Watches Wrist Watches', \"Clothing Kids' Clothing\", 'Tools & Hardware Tools', 'Beauty and Personal Care Fragrances', 'Computers Laptop Accessories', \"Footwear Men's Footwear\", 'Mobiles & Accessories Mobile Accessories', 'Home Decor & Festive Needs Showpieces', 'Kitchen & Dining Coffee Mugs', 'Home Decor & Festive Needs Wall Decor & Clocks', 'Home Furnishing Bed Linen', 'Toys & School Supplies School Supplies', 'Baby Care Baby & Kids Gifts', 'Computers Network Components', 'Bags, Wallets & Belts Bags', 'Baby Care Infant Wear', 'Jewellery Jewellery Sets', 'Home Furnishing Curtains & Accessories', 'Home Decor & Festive Needs Table Decor & Handicrafts', 'Pens & Stationery Office Supplies', 'Jewellery Accessories', \"Footwear Kids' & Infant Footwear\"]\n"
     ]
    },
    {
     "data": {
      "text/html": [
       "<div>\n",
       "<style scoped>\n",
       "    .dataframe tbody tr th:only-of-type {\n",
       "        vertical-align: middle;\n",
       "    }\n",
       "\n",
       "    .dataframe tbody tr th {\n",
       "        vertical-align: top;\n",
       "    }\n",
       "\n",
       "    .dataframe thead th {\n",
       "        text-align: right;\n",
       "    }\n",
       "</style>\n",
       "<table border=\"1\" class=\"dataframe\">\n",
       "  <thead>\n",
       "    <tr style=\"text-align: right;\">\n",
       "      <th></th>\n",
       "      <th>Level1</th>\n",
       "      <th>Level2</th>\n",
       "      <th>NameDesc</th>\n",
       "      <th>NewCat</th>\n",
       "      <th>text</th>\n",
       "    </tr>\n",
       "  </thead>\n",
       "  <tbody>\n",
       "    <tr>\n",
       "      <th>0</th>\n",
       "      <td>Clothing</td>\n",
       "      <td>Women's Clothing</td>\n",
       "      <td>[alisha, solid, womens, cycling, shortskey, fe...</td>\n",
       "      <td>Clothing Women's Clothing</td>\n",
       "      <td>['alisha', 'solid', 'womens', 'cycle', 'shorts...</td>\n",
       "    </tr>\n",
       "    <tr>\n",
       "      <th>1</th>\n",
       "      <td>Furniture</td>\n",
       "      <td>Living Room Furniture</td>\n",
       "      <td>[fabhomedecor, fabric, double, sofa, bedfabhom...</td>\n",
       "      <td>Furniture Living Room Furniture</td>\n",
       "      <td>['fabhomedecor', 'fabric', 'double', 'sofa', '...</td>\n",
       "    </tr>\n",
       "    <tr>\n",
       "      <th>2</th>\n",
       "      <td>Footwear</td>\n",
       "      <td>Women's Footwear</td>\n",
       "      <td>[aw, bellieskey, features, of, aw, bellies, sa...</td>\n",
       "      <td>Footwear Women's Footwear</td>\n",
       "      <td>['aw', 'bellieskey', 'feature', 'aw', 'belly',...</td>\n",
       "    </tr>\n",
       "    <tr>\n",
       "      <th>3</th>\n",
       "      <td>Clothing</td>\n",
       "      <td>Women's Clothing</td>\n",
       "      <td>[alisha, solid, womens, cycling, shortskey, fe...</td>\n",
       "      <td>Clothing Women's Clothing</td>\n",
       "      <td>['alisha', 'solid', 'womens', 'cycle', 'shorts...</td>\n",
       "    </tr>\n",
       "    <tr>\n",
       "      <th>4</th>\n",
       "      <td>Pet Supplies</td>\n",
       "      <td>Grooming</td>\n",
       "      <td>[sicons, all, purpose, arnica, dog, shampoospe...</td>\n",
       "      <td>Pet Supplies Grooming</td>\n",
       "      <td>['sicons', 'purpose', 'arnica', 'dog', 'shampo...</td>\n",
       "    </tr>\n",
       "  </tbody>\n",
       "</table>\n",
       "</div>"
      ],
      "text/plain": [
       "         Level1  ...                                               text\n",
       "0      Clothing  ...  ['alisha', 'solid', 'womens', 'cycle', 'shorts...\n",
       "1     Furniture  ...  ['fabhomedecor', 'fabric', 'double', 'sofa', '...\n",
       "2      Footwear  ...  ['aw', 'bellieskey', 'feature', 'aw', 'belly',...\n",
       "3      Clothing  ...  ['alisha', 'solid', 'womens', 'cycle', 'shorts...\n",
       "4  Pet Supplies  ...  ['sicons', 'purpose', 'arnica', 'dog', 'shampo...\n",
       "\n",
       "[5 rows x 5 columns]"
      ]
     },
     "execution_count": 77,
     "metadata": {
      "tags": []
     },
     "output_type": "execute_result"
    }
   ],
   "source": [
    "'''\n",
    "Getting names of top 25 level 1 categories and top 30 level1 + level2 categories.\n",
    "'''\n",
    "\n",
    "a = data['Level1'].value_counts()[:25].index.tolist()\n",
    "b = data['NewCat'].value_counts()[:30].index.tolist()\n",
    "\n",
    "print(a)\n",
    "print(b)\n",
    "\n",
    "data.head()"
   ]
  },
  {
   "cell_type": "code",
   "execution_count": null,
   "metadata": {
    "id": "Lf3sThabtuVi"
   },
   "outputs": [],
   "source": [
    "'''\n",
    "Splitting into data_a and data_b\n",
    "\n",
    "data_a:\n",
    "-> Features: Concatenation of product_name and product_desc\n",
    "-> Target: Top 25 categories of Level 1 of product_category_tree\n",
    "\n",
    "data_b:\n",
    "-> Features: Concatenation of product_name and product_desc\n",
    "-> Target: Top 30 categories of Level 1 + Level 30 of product_category_tree\n",
    "'''\n",
    "\n",
    "\n",
    "def get_data_a(data, cats):\n",
    "  data_a = data[data['Level1'].isin(cats)]\n",
    "  data_a.drop(['Level2', 'NewCat'], axis = 1, inplace = True)\n",
    "  data_a.reset_index(drop = True, inplace = True)\n",
    "  return data_a\n",
    "\n",
    "def get_data_b(data, cats):\n",
    "  data_b = data[data['NewCat'].isin(cats)]\n",
    "  data_b.drop(['Level1', 'Level2'], axis = 1, inplace = True)\n",
    "  data_b.reset_index(drop = True, inplace = True)\n",
    "  return data_b\n",
    "\n",
    "data_a = get_data_a(data, a)\n",
    "data_b = get_data_b(data, b)"
   ]
  },
  {
   "cell_type": "code",
   "execution_count": 79,
   "metadata": {
    "colab": {
     "base_uri": "https://localhost:8080/"
    },
    "id": "zj9Fs1_6wzjX",
    "outputId": "7c452593-1ff6-40c9-d391-790f6daf6d83"
   },
   "outputs": [
    {
     "name": "stdout",
     "output_type": "stream",
     "text": [
      "(19998, 5)\n",
      "(19620, 3)\n",
      "(16996, 3)\n"
     ]
    }
   ],
   "source": [
    "'''\n",
    "Observing Data\n",
    "'''\n",
    "\n",
    "# Orginal Data\n",
    "print(data.shape)\n",
    "\n",
    "# Data A\n",
    "print(data_a.shape)\n",
    "\n",
    "# Data B\n",
    "print(data_b.shape)"
   ]
  },
  {
   "cell_type": "code",
   "execution_count": null,
   "metadata": {
    "id": "PVsk3SfiayRv"
   },
   "outputs": [],
   "source": [
    "'''\n",
    "Prepare Train and Test.\n",
    "Since we have two datasets to test on, we make 2 sets of training and testing data.\n",
    "'''\n",
    "# Using data_a\n",
    "data_a.dropna(inplace=True, how='any')\n",
    "X_train_a, X_test_a, Y_train_a, Y_test_a = model_selection.train_test_split(data_a['text'], data_a['Level1'], test_size=0.15)\n",
    "\n",
    "# Using data_b\n",
    "data_b.dropna(inplace=True, how='any')\n",
    "X_train_b, X_test_b, Y_train_b, Y_test_b = model_selection.train_test_split(data_b['text'], data_b['NewCat'], test_size=0.15)"
   ]
  },
  {
   "cell_type": "code",
   "execution_count": 81,
   "metadata": {
    "id": "WRgSwKNebiU3"
   },
   "outputs": [],
   "source": [
    "'''Encoder for output'''\n",
    "\n",
    "Encoder = LabelEncoder()\n",
    "Y_train_a = Encoder.fit_transform(Y_train_a)\n",
    "Y_test_a = Encoder.fit_transform(Y_test_a)\n",
    "\n",
    "Encoder = LabelEncoder()\n",
    "Y_train_b = Encoder.fit_transform(Y_train_b)\n",
    "Y_test_b = Encoder.fit_transform(Y_test_b)"
   ]
  },
  {
   "cell_type": "markdown",
   "metadata": {
    "id": "qM8Na1z9c0gC"
   },
   "source": [
    "# **Vectorization**"
   ]
  },
  {
   "cell_type": "markdown",
   "metadata": {
    "id": "SqLFcPofdaGI"
   },
   "source": [
    "**Using TF-IDF**"
   ]
  },
  {
   "cell_type": "code",
   "execution_count": 82,
   "metadata": {
    "id": "Y2PtPKdcdgMI"
   },
   "outputs": [],
   "source": [
    "# Vectorizing data_a\n",
    "\n",
    "Tfidf_vect_a = TfidfVectorizer(max_features=15000)\n",
    "Tfidf_vect_a.fit(data_a['text'])\n",
    "\n",
    "X_train_tf_a = Tfidf_vect_a.transform(X_train_a)\n",
    "X_test_tf_a = Tfidf_vect_a.transform(X_test_a)\n",
    "\n",
    "\n",
    "# Vectorizing data_b\n",
    "\n",
    "Tfidf_vect_b = TfidfVectorizer(max_features=15000)\n",
    "Tfidf_vect_b.fit(data_b['text'])\n",
    "\n",
    "X_train_tf_b = Tfidf_vect_b.transform(X_train_b)\n",
    "X_test_tf_b = Tfidf_vect_b.transform(X_test_b)"
   ]
  },
  {
   "cell_type": "markdown",
   "metadata": {
    "id": "Hia4Qv-M1hpN"
   },
   "source": [
    "# **Training On Vectorizers**"
   ]
  },
  {
   "cell_type": "markdown",
   "metadata": {
    "id": "zHFXMQ_c4De_"
   },
   "source": [
    "**Explanation of Training Experiments**\n",
    "\n",
    "*Experiment 1*\n",
    "\n",
    "1. TF-IDF Vectors of data_a are used.\n",
    "2. That is, prediction is performed on 25 categories of Level 1 of product_category_tree.\n",
    "\n",
    "*Experiment 2*\n",
    "\n",
    "1. TF-IDF Vectors of data_b are used.\n",
    "2. That is, prediction is performed on 30 categories of Level 1 concatenated with Level 2 of product_category_tree.\n",
    "\n",
    "**Note** - For all experiments, SVC was used as a classifier. To obtain best results, GridCV was used for hyperparameter tuning.\n"
   ]
  },
  {
   "cell_type": "markdown",
   "metadata": {
    "id": "ndl1mvlc1szz"
   },
   "source": [
    "**Experiment 1**"
   ]
  },
  {
   "cell_type": "code",
   "execution_count": null,
   "metadata": {
    "id": "rYxjB6Ij2nSu"
   },
   "outputs": [],
   "source": [
    "# Classifier - Algorithm - SVM\n",
    "# GRID CV is used below. First we define the parameters to tune\n",
    "\n",
    "param_grid = {'C':[1,10],'gamma':[1,0.1], 'kernel':['linear','rbf']}\n",
    "grid = GridSearchCV(SVC(),param_grid,refit = True, verbose=2)\n",
    "\n",
    "# Fit the data\n",
    "grid.fit(X_train_tf_a, Y_train_a)"
   ]
  },
  {
   "cell_type": "code",
   "execution_count": 89,
   "metadata": {
    "colab": {
     "base_uri": "https://localhost:8080/"
    },
    "id": "RrXfEt9YK_Fj",
    "outputId": "7f7967c0-d893-4dcc-e9df-2cda5741a896"
   },
   "outputs": [
    {
     "name": "stdout",
     "output_type": "stream",
     "text": [
      "{'C': 10, 'gamma': 0.1, 'kernel': 'rbf'}\n"
     ]
    }
   ],
   "source": [
    "print(grid.best_params_)\n",
    "\n",
    "# Predict \n",
    "predic = grid.predict(X_test_tf_a)"
   ]
  },
  {
   "cell_type": "code",
   "execution_count": 91,
   "metadata": {
    "colab": {
     "base_uri": "https://localhost:8080/"
    },
    "id": "7aSxiPtELLuR",
    "outputId": "fe5c1064-0f77-40d3-eb27-674842ba9e09"
   },
   "outputs": [
    {
     "name": "stdout",
     "output_type": "stream",
     "text": [
      "              precision    recall  f1-score   support\n",
      "\n",
      "           0       0.98      0.96      0.97       164\n",
      "           1       0.93      0.83      0.88        66\n",
      "           2       0.91      1.00      0.96        43\n",
      "           3       0.96      1.00      0.98       102\n",
      "           4       1.00      0.90      0.95        10\n",
      "           5       1.00      0.99      1.00       941\n",
      "           6       1.00      0.96      0.98        84\n",
      "           7       1.00      0.99      1.00       179\n",
      "           8       1.00      0.92      0.96        26\n",
      "           9       1.00      0.80      0.89         5\n",
      "          10       1.00      1.00      1.00         7\n",
      "          11       0.00      0.00      0.00         1\n",
      "          12       0.95      0.97      0.96       159\n",
      "          13       0.95      0.99      0.97       107\n",
      "          14       0.93      0.88      0.90        16\n",
      "          15       0.99      1.00      1.00       508\n",
      "          16       0.92      0.97      0.94        97\n",
      "          17       0.95      0.99      0.97       147\n",
      "          18       0.94      0.79      0.86        38\n",
      "          19       1.00      0.78      0.88         9\n",
      "          20       0.90      0.93      0.92        29\n",
      "          21       1.00      1.00      1.00         6\n",
      "          22       0.99      0.89      0.94        74\n",
      "          23       0.84      0.90      0.87        52\n",
      "          24       1.00      1.00      1.00        73\n",
      "\n",
      "    accuracy                           0.98      2943\n",
      "   macro avg       0.93      0.90      0.91      2943\n",
      "weighted avg       0.98      0.98      0.98      2943\n",
      "\n"
     ]
    },
    {
     "name": "stderr",
     "output_type": "stream",
     "text": [
      "/usr/local/lib/python3.7/dist-packages/sklearn/metrics/_classification.py:1272: UndefinedMetricWarning: Precision and F-score are ill-defined and being set to 0.0 in labels with no predicted samples. Use `zero_division` parameter to control this behavior.\n",
      "  _warn_prf(average, modifier, msg_start, len(result))\n"
     ]
    }
   ],
   "source": [
    "# Evaluate\n",
    "\n",
    "print(classification_report(Y_test_a, predic))"
   ]
  },
  {
   "cell_type": "markdown",
   "metadata": {
    "id": "U6An7BBuLxVO"
   },
   "source": [
    "**Experiment 2**"
   ]
  },
  {
   "cell_type": "code",
   "execution_count": 106,
   "metadata": {
    "id": "gduo2HR3LyrW"
   },
   "outputs": [],
   "source": [
    "# Using the same parameters defined before\n",
    "\n",
    "mod = SVC(C = 10, gamma =  0.1, kernel = 'rbf')\n",
    "mod.fit(X_train_tf_b, Y_train_b)\n",
    "predic2 = mod.predict(X_test_tf_b)"
   ]
  },
  {
   "cell_type": "code",
   "execution_count": 107,
   "metadata": {
    "colab": {
     "base_uri": "https://localhost:8080/"
    },
    "id": "6JY48oX7MIg7",
    "outputId": "d6752386-237a-4fbe-aebc-9acae669e653"
   },
   "outputs": [
    {
     "name": "stdout",
     "output_type": "stream",
     "text": [
      "              precision    recall  f1-score   support\n",
      "\n",
      "           0       0.99      1.00      1.00       139\n",
      "           1       1.00      1.00      1.00        24\n",
      "           2       0.91      0.91      0.91        33\n",
      "           3       0.97      0.91      0.94        35\n",
      "           4       1.00      0.98      0.99        57\n",
      "           5       0.96      0.96      0.96        81\n",
      "           6       0.99      1.00      0.99       261\n",
      "           7       0.99      1.00      0.99       602\n",
      "           8       0.97      1.00      0.98        62\n",
      "           9       1.00      1.00      1.00        31\n",
      "          10       0.78      0.93      0.85        15\n",
      "          11       0.78      0.83      0.80        42\n",
      "          12       0.97      0.91      0.94       124\n",
      "          13       0.84      0.93      0.88        45\n",
      "          14       0.75      0.50      0.60        18\n",
      "          15       1.00      1.00      1.00        29\n",
      "          16       1.00      1.00      1.00        33\n",
      "          17       1.00      0.96      0.98        23\n",
      "          18       1.00      1.00      1.00        20\n",
      "          19       1.00      0.99      0.99        93\n",
      "          20       0.96      1.00      0.98        24\n",
      "          21       1.00      1.00      1.00       234\n",
      "          22       1.00      1.00      1.00       130\n",
      "          23       1.00      1.00      1.00        46\n",
      "          24       0.94      0.91      0.93        35\n",
      "          25       1.00      0.98      0.99       125\n",
      "          26       0.96      1.00      0.98        26\n",
      "          27       1.00      0.98      0.99        62\n",
      "          28       1.00      0.97      0.98        32\n",
      "          29       1.00      0.99      0.99        69\n",
      "\n",
      "    accuracy                           0.98      2550\n",
      "   macro avg       0.96      0.96      0.96      2550\n",
      "weighted avg       0.98      0.98      0.98      2550\n",
      "\n"
     ]
    }
   ],
   "source": [
    "# Evaluate\n",
    "\n",
    "print(classification_report(Y_test_b, predic2))"
   ]
  },
  {
   "cell_type": "markdown",
   "metadata": {
    "id": "2sx5dXtJOwj-"
   },
   "source": [
    "## **Evaluation and Results**"
   ]
  },
  {
   "cell_type": "markdown",
   "metadata": {
    "id": "bnhCDS0zO6ET"
   },
   "source": [
    "**TF-IDF with Grid CV on 25 Categories of Level 1**\n",
    "\n",
    "1. *Accuracy* - 98%\n",
    "2. *Unweighted Recall* - 90%\n",
    "3. *Macro Avg F1 Score* - 91%\n",
    "\n",
    "Comment - Has a good overall accuracy, but suffers from data imbalance of classes.\n",
    "\n",
    "\n",
    "\n",
    "---\n",
    "\n",
    "**TF-IDF with Grid CV on 30 Categories of Level 1 + Level 2**\n",
    "\n",
    "1. *Accuracy* - 98%\n",
    "2. *Unweighted Recall* - 96%\n",
    "3. *Macro Avg F1 Score* - 96%\n",
    "\n",
    "Comment - Has a good overall accuracy and also has a very good recall for each class. Is able to predict more information (Level 1 + Level 2). Also has reduced issues with data imabalance.]\n",
    "\n",
    "\n",
    "\n",
    "---\n",
    "\n",
    "\n",
    "\n",
    "\n",
    "It is clearly seen that the combination of Level 1 and Level 2 of the Product Category Tree works better. Moreover, more information is conveyed through the targets of the same since both level 1 and level 2 are predicted."
   ]
  }
 ],
 "metadata": {
  "colab": {
   "collapsed_sections": [],
   "name": "Experiment1-Task3.ipynb",
   "provenance": []
  },
  "kernelspec": {
   "display_name": "Python 3",
   "language": "python",
   "name": "python3"
  },
  "language_info": {
   "codemirror_mode": {
    "name": "ipython",
    "version": 3
   },
   "file_extension": ".py",
   "mimetype": "text/x-python",
   "name": "python",
   "nbconvert_exporter": "python",
   "pygments_lexer": "ipython3",
   "version": "3.8.5"
  }
 },
 "nbformat": 4,
 "nbformat_minor": 1
}
