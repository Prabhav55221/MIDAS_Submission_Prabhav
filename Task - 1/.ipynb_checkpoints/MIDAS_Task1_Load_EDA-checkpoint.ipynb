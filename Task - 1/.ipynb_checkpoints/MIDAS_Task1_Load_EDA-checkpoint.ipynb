{
 "cells": [
  {
   "cell_type": "markdown",
   "id": "cordless-perception",
   "metadata": {},
   "source": [
    "# **MIDAS Task 1**\n",
    "\n",
    "For this task, two different methods are tested and evaluated. The methods differ mainly on the audio feature used for classification. They are listed below as:\n",
    "1. Using Normalized Log Spectrogram of Audio Samples\n",
    "2. Using MFCC's and their higher order Deltas\n",
    "\n",
    "This python notebook only shows the best working experiment. THe others are in the file expreiments.ipynb. Each experiment is organised as follows:\n",
    "* Libraries Required\n",
    "* Data Check\n",
    "* Data Visualisation\n",
    "* Data Loading, Preprocessing and Feature Extraction\n",
    "* Model Building and Training\n",
    "* Testing and Evaluation"
   ]
  },
  {
   "cell_type": "markdown",
   "id": "comparable-professional",
   "metadata": {},
   "source": [
    "## Libraries Installation"
   ]
  },
  {
   "cell_type": "code",
   "execution_count": 2,
   "id": "laughing-cattle",
   "metadata": {},
   "outputs": [],
   "source": [
    "import numpy as np \n",
    "import pandas as pd\n",
    "from tqdm import tqdm\n",
    "import os\n",
    "from os.path import isdir, join\n",
    "\n",
    "import librosa\n",
    "from scipy.fftpack import fft\n",
    "from scipy import signal\n",
    "from scipy.io import wavfile\n",
    "from sklearn.decomposition import PCA\n",
    "\n",
    "import matplotlib.pyplot as plt\n",
    "import librosa.display\n",
    "import IPython.display as ipd \n",
    "\n",
    "import warnings\n",
    "warnings.filterwarnings(\"ignore\")"
   ]
  },
  {
   "cell_type": "markdown",
   "id": "naked-wesley",
   "metadata": {},
   "source": [
    "## Data Check"
   ]
  },
  {
   "cell_type": "markdown",
   "id": "regulation-tuner",
   "metadata": {},
   "source": [
    "Labels for Prediction Task -> ['yes', 'no', 'up', 'down', 'left', 'right', 'on', 'off', 'stop', 'go', 'unknown', 'silence'] (12)\n",
    "\n",
    "Labels Given -> 31"
   ]
  },
  {
   "cell_type": "code",
   "execution_count": 5,
   "id": "express-paris",
   "metadata": {},
   "outputs": [
    {
     "name": "stdout",
     "output_type": "stream",
     "text": [
      "31\n",
      "['bed', 'bird', 'cat', 'dog', 'down', 'eight', 'five', 'four', 'go', 'happy', 'house', 'left', 'marvin', 'nine', 'no', 'off', 'on', 'one', 'right', 'seven', 'sheila', 'six', 'stop', 'three', 'tree', 'two', 'up', 'wow', 'yes', 'zero', '_background_noise_']\n"
     ]
    }
   ],
   "source": [
    "'''\n",
    "Check Training Audio Folder\n",
    "'''\n",
    "\n",
    "train_audio_path = 'Task1Data/train/audio/'\n",
    "print(len(os.listdir(train_audio_path)))\n",
    "print(os.listdir(train_audio_path))"
   ]
  }
 ],
 "metadata": {
  "kernelspec": {
   "display_name": "Python 3",
   "language": "python",
   "name": "python3"
  },
  "language_info": {
   "codemirror_mode": {
    "name": "ipython",
    "version": 3
   },
   "file_extension": ".py",
   "mimetype": "text/x-python",
   "name": "python",
   "nbconvert_exporter": "python",
   "pygments_lexer": "ipython3",
   "version": "3.8.5"
  }
 },
 "nbformat": 4,
 "nbformat_minor": 5
}
