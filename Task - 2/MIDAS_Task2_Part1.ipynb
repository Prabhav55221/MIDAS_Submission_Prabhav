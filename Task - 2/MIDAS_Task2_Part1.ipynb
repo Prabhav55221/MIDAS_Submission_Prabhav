{
  "nbformat": 4,
  "nbformat_minor": 0,
  "metadata": {
    "colab": {
      "name": "MIDAS-Task2-Part1.ipynb",
      "provenance": [],
      "collapsed_sections": []
    },
    "kernelspec": {
      "name": "python3",
      "display_name": "Python 3"
    },
    "language_info": {
      "name": "python"
    },
    "accelerator": "GPU"
  },
  "cells": [
    {
      "cell_type": "markdown",
      "metadata": {
        "id": "pdNBKn_RV4IV"
      },
      "source": [
        "# **MIDAS IIITD - Task 2 Part 1**"
      ]
    },
    {
      "cell_type": "markdown",
      "metadata": {
        "id": "c1wP6rn1W8wS"
      },
      "source": [
        "#### **Introduction to Method**\n",
        "\n",
        "For task one, the given dataset has been used to train a CNN network. A brief dataset description is given below:\n",
        "\n",
        "*   Contains 62 classes.\n",
        "*   This includes handwritten digits 0-9, alphabets A-Z and lowercase alphabets a-z.\n",
        "\n",
        "This notebook only contains part one of the task. Other parts are in subsequent noteboks. Further, this notebook is divided into:\n",
        "\n",
        "1.   Libraries and Other Requirements\n",
        "2.   Dataset Loading and Preprocessing\n",
        "3.   Exploratory Data Analysis\n",
        "4.   Model Building and Training\n",
        "5.   Training Analysis\n",
        "\n",
        "\n",
        "\n",
        "\n",
        "\n",
        "\n",
        "\n"
      ]
    },
    {
      "cell_type": "markdown",
      "metadata": {
        "id": "mvlgv5KvYRQc"
      },
      "source": [
        "# **Libraries Installed**"
      ]
    },
    {
      "cell_type": "code",
      "metadata": {
        "id": "ZVdD4DEvYU9W"
      },
      "source": [
        "'''\n",
        "Libraries required to run the code.\n",
        "Development was done on Google Colab and hence it is preferable to run on Colab with GPU for faster setup.\n",
        "'''\n",
        "\n",
        "import numpy as np\n",
        "import pandas as pd\n",
        "from tqdm import tqdm\n",
        "import random\n",
        "import os\n",
        "from collections import Counter\n",
        "import pickle\n",
        "import tensorflow as tf\n",
        "import keras\n",
        "from  matplotlib import pyplot as plt\n",
        "from PIL import Image\n",
        "import gc\n",
        "import tensorflow as tf\n",
        "from sklearn.model_selection import train_test_split\n",
        "from keras.models import Sequential\n",
        "from keras import optimizers\n",
        "from keras.layers import Convolution2D, MaxPooling2D, Dropout, Flatten, Dense, Reshape, LSTM\n",
        "from keras import backend as K\n",
        "from tensorflow.keras.callbacks import EarlyStopping, ReduceLROnPlateau,ModelCheckpoint\n",
        "from keras.constraints import maxnorm"
      ],
      "execution_count": 56,
      "outputs": []
    },
    {
      "cell_type": "code",
      "metadata": {
        "id": "vp9LskA-cHjw"
      },
      "source": [
        "'''\n",
        "Copying Data to Location\n",
        "'''\n",
        "\n",
        "!ln -s '/content/drive/MyDrive/MIDAS TASK 2/train' '/content'"
      ],
      "execution_count": null,
      "outputs": []
    },
    {
      "cell_type": "code",
      "metadata": {
        "colab": {
          "base_uri": "https://localhost:8080/"
        },
        "id": "iPJK75dRaFaR",
        "outputId": "33d884da-ba3f-4e68-9447-bda63eadcba4"
      },
      "source": [
        "device_name = tf.test.gpu_device_name()\n",
        "if device_name != '/device:GPU:0':\n",
        "  raise SystemError('GPU device not found')\n",
        "print('Found GPU at: {}'.format(device_name))"
      ],
      "execution_count": 3,
      "outputs": [
        {
          "output_type": "stream",
          "text": [
            "Found GPU at: /device:GPU:0\n"
          ],
          "name": "stdout"
        }
      ]
    },
    {
      "cell_type": "markdown",
      "metadata": {
        "id": "cFtAr75_b0y9"
      },
      "source": [
        "# **Data Loading and Preprocessing**"
      ]
    },
    {
      "cell_type": "code",
      "metadata": {
        "id": "Hepb7dGph703"
      },
      "source": [
        "# Data stores the Numpy Array while Category is the class.\n",
        "\n",
        "data = []\n",
        "category = []"
      ],
      "execution_count": 13,
      "outputs": []
    },
    {
      "cell_type": "code",
      "metadata": {
        "id": "SzeBREfIb5qW"
      },
      "source": [
        "'''\n",
        "Helper Function to:\n",
        "1. Load all Images as Numpy Arrays\n",
        "2. Normalize between 0 and 1 by dividing by 255\n",
        "3. Check Size to ensure 28*28 images\n",
        "'''\n",
        "\n",
        "'''\n",
        "Preprocessing:\n",
        "1. Convert 3D image to 1D image to reduce computations.\n",
        "2. Normalize between 0 and 1.\n",
        "3. Keep data type as Float32\n",
        "4. Resize using pillow image library. Resize to (128,128) to improve speed.\n",
        "'''\n",
        "\n",
        "img_folder = '/content/train'\n",
        "\n",
        "def load_data(img_folder):\n",
        "\n",
        "    for dir1 in tqdm(os.listdir(img_folder)):\n",
        "        for file in os.listdir(os.path.join(img_folder, dir1)):\n",
        "            image_path= os.path.join(img_folder, dir1,  file)\n",
        "            pilload = Image.open(image_path).convert('L')\n",
        "            pilload = pilload.resize((128,128))\n",
        "            image= np.array(pilload)\n",
        "            image = image.astype('float32')\n",
        "            image /= 255  \n",
        "            data.append(image)\n",
        "            category.append(dir1)\n",
        "            pilload.close()"
      ],
      "execution_count": 14,
      "outputs": []
    },
    {
      "cell_type": "code",
      "metadata": {
        "colab": {
          "base_uri": "https://localhost:8080/"
        },
        "id": "g5sM9jG3eoiD",
        "outputId": "e7aff511-edb7-4128-ce55-2ac6146581c3"
      },
      "source": [
        "'''\n",
        "Loading Dataset using function.\n",
        "'''\n",
        "\n",
        "load_data(img_folder)"
      ],
      "execution_count": 15,
      "outputs": [
        {
          "output_type": "stream",
          "text": [
            "100%|██████████| 62/62 [00:41<00:00,  1.48it/s]\n"
          ],
          "name": "stderr"
        }
      ]
    },
    {
      "cell_type": "code",
      "metadata": {
        "id": "sbLKE1mLybxM"
      },
      "source": [
        "'''\n",
        "Create target dictionary\n",
        "'''\n",
        "\n",
        "target_dict={k: v for v, k in enumerate(np.unique(category))}\n",
        "target_val=  [target_dict[category[i]] for i in range(len(category))]"
      ],
      "execution_count": 16,
      "outputs": []
    },
    {
      "cell_type": "markdown",
      "metadata": {
        "id": "mEI2biCxzPtg"
      },
      "source": [
        "# **EDA**"
      ]
    },
    {
      "cell_type": "code",
      "metadata": {
        "colab": {
          "base_uri": "https://localhost:8080/",
          "height": 126
        },
        "id": "1PWUMO-vzTg8",
        "outputId": "369e1826-5940-4145-c7b3-865b6720da87"
      },
      "source": [
        "'''\n",
        "Loading Sample Images\n",
        "All images are upright and squared. No image rotation and flipping required.\n",
        "'''\n",
        "\n",
        "plt.figure(figsize=(40,20))\n",
        "\n",
        "for i in range(10):\n",
        "  image = random.choice(data)\n",
        "  ax=plt.subplot(1,10,i+1)\n",
        "  plt.imshow(image)"
      ],
      "execution_count": 17,
      "outputs": [
        {
          "output_type": "display_data",
          "data": {
            "image/png": "[encoded data removed]",
            "text/plain": [
              "<Figure size 2880x1440 with 10 Axes>"
            ]
          },
          "metadata": {
            "tags": [],
            "needs_background": "light"
          }
        }
      ]
    },
    {
      "cell_type": "code",
      "metadata": {
        "colab": {
          "base_uri": "https://localhost:8080/",
          "height": 588
        },
        "id": "-HYLKIpcQoNq",
        "outputId": "3af3b2c6-94fd-48ff-c32d-ae13e761de67"
      },
      "source": [
        "'''\n",
        "Checking for data imbalance.\n",
        "We see that there is no data inbalance so we don't need data augmentation techniques.\n",
        "'''\n",
        "\n",
        "d = Counter(target_val)\n",
        "key = d.keys()\n",
        "\n",
        "df = pd.DataFrame(d,index=key)\n",
        "df.drop(df.columns[1:], inplace=True)\n",
        "df.plot(kind='bar', legend = False, figsize=(10, 10), width = 3)\n",
        "\n",
        "plt.show()"
      ],
      "execution_count": 18,
      "outputs": [
        {
          "output_type": "display_data",
          "data": {
            "image/png": "[encoded data removed]",
            "text/plain": [
              "<Figure size 720x720 with 1 Axes>"
            ]
          },
          "metadata": {
            "tags": [],
            "needs_background": "light"
          }
        }
      ]
    },
    {
      "cell_type": "markdown",
      "metadata": {
        "id": "1_s9Hv2NVMd1"
      },
      "source": [
        "# **Building And Training Model**"
      ]
    },
    {
      "cell_type": "markdown",
      "metadata": {
        "id": "bbhSYszanUUD"
      },
      "source": [
        "#### **Explanation of Model Choice**\n",
        "\n",
        "1.   Since all categories were equally balance, the use of data augmentation or data generation was not required.\n",
        "2.   A simple Conv 2D network was defined for the model. \n",
        "3.   In case of the convolution filter size, it was reduced for each of the three convolution networks. One of the reason to do this is that it reduces computational costs and weight sharing that ultimately leads to lesser weights for back-propagation.\n",
        "4.  This also enables the model to better learn features from windows of different sizes.\n",
        "5. Categorical Cross Entropy is used as the loss function and Adam optimizer is used. Furthermore, ModelCheckpoints are added to :\n",
        "\n",
        "    *   Save only the best model.\n",
        "    *   Stop learning if the loss stagnates.\n",
        "    *   Change learning rate of the model on the fly\n",
        "\n",
        "\n",
        "\n",
        "\n"
      ]
    },
    {
      "cell_type": "code",
      "metadata": {
        "colab": {
          "base_uri": "https://localhost:8080/"
        },
        "id": "BMTkPDSDVPh2",
        "outputId": "f841f30c-c985-4bfc-922b-56551bb7acf8"
      },
      "source": [
        "'''\n",
        "The entire data is fed to a Tensorflow Keras based CNN network as described below.\n",
        "'''\n",
        "\n",
        "model = keras.models.Sequential()\n",
        "\n",
        "model.add(keras.layers.Conv2D(filters=12, kernel_size=(5,5), strides=2, activation='relu', \n",
        "                              input_shape=(128,128,1)))\n",
        "model.add(keras.layers.Dropout(.5))\n",
        "\n",
        "model.add(keras.layers.Conv2D(filters=18, kernel_size=(3,3) , strides=2, activation='relu'))\n",
        "model.add(keras.layers.Dropout(.5))\n",
        "\n",
        "model.add(keras.layers.Conv2D(filters=24, kernel_size=(2,2), activation='relu'))\n",
        "\n",
        "model.add(keras.layers.Flatten())\n",
        "model.add(keras.layers.Dense(units=150, activation='relu'))\n",
        "model.add(keras.layers.Dense(units=62, activation='softmax'))\n",
        "\n",
        "model.compile(loss='categorical_crossentropy', optimizer='Adam', metrics=['accuracy'])\n",
        "model.summary()"
      ],
      "execution_count": 115,
      "outputs": [
        {
          "output_type": "stream",
          "text": [
            "Model: \"sequential_12\"\n",
            "_________________________________________________________________\n",
            "Layer (type)                 Output Shape              Param #   \n",
            "=================================================================\n",
            "conv2d_28 (Conv2D)           (None, 62, 62, 12)        312       \n",
            "_________________________________________________________________\n",
            "dropout_16 (Dropout)         (None, 62, 62, 12)        0         \n",
            "_________________________________________________________________\n",
            "conv2d_29 (Conv2D)           (None, 30, 30, 18)        1962      \n",
            "_________________________________________________________________\n",
            "dropout_17 (Dropout)         (None, 30, 30, 18)        0         \n",
            "_________________________________________________________________\n",
            "conv2d_30 (Conv2D)           (None, 29, 29, 24)        1752      \n",
            "_________________________________________________________________\n",
            "flatten_10 (Flatten)         (None, 20184)             0         \n",
            "_________________________________________________________________\n",
            "dense_22 (Dense)             (None, 150)               3027750   \n",
            "_________________________________________________________________\n",
            "dense_23 (Dense)             (None, 62)                9362      \n",
            "=================================================================\n",
            "Total params: 3,041,138\n",
            "Trainable params: 3,041,138\n",
            "Non-trainable params: 0\n",
            "_________________________________________________________________\n"
          ],
          "name": "stdout"
        }
      ]
    },
    {
      "cell_type": "code",
      "metadata": {
        "id": "9qdNK2PjhpSN"
      },
      "source": [
        "'''\n",
        "Defining Training Data\n",
        "'''\n",
        "\n",
        "X = np.array(data, np.float32).reshape(2480,128,128,1)\n",
        "Y = tf.keras.utils.to_categorical(target_val, 62)"
      ],
      "execution_count": 116,
      "outputs": []
    },
    {
      "cell_type": "code",
      "metadata": {
        "id": "VB0lUWmkXiWI"
      },
      "source": [
        "'''\n",
        "Adding Callback API's to save best weights and change learning rate on the fly\n",
        "'''\n",
        " \n",
        "MCP = ModelCheckpoint('/content/drive/MyDrive/MIDAS TASK 2/best.h5', verbose=1, save_best_only=True, monitor='accuracy', mode='max')\n",
        "ES = EarlyStopping(monitor='accuracy', min_delta=0, verbose=0, restore_best_weights = True, patience=3, mode='max')\n",
        "RLP = ReduceLROnPlateau(monitor='loss', patience=3, factor=0.2, min_lr=0.0001)"
      ],
      "execution_count": 117,
      "outputs": []
    },
    {
      "cell_type": "code",
      "metadata": {
        "id": "5ncxhx5FYXRY"
      },
      "source": [
        "%%time\n",
        "\n",
        "'''\n",
        "Training while also calculating time\n",
        "'''\n",
        "\n",
        "tf.config.run_functions_eagerly(True)\n",
        "\n",
        "history = model.fit(X, Y, epochs=50, callbacks=[MCP,ES,RLP]) "
      ],
      "execution_count": null,
      "outputs": []
    },
    {
      "cell_type": "markdown",
      "metadata": {
        "id": "eOFh0sMYhWqF"
      },
      "source": [
        "# **Training Analysis**"
      ]
    },
    {
      "cell_type": "markdown",
      "metadata": {
        "id": "XAt75mZQqhGQ"
      },
      "source": [
        "#### **Basic Training Results**\n",
        "\n",
        "1.   Accuracy - 94.960%\n",
        "2.   Time = 53.5 seconds\n",
        "\n"
      ]
    },
    {
      "cell_type": "code",
      "metadata": {
        "colab": {
          "base_uri": "https://localhost:8080/",
          "height": 573
        },
        "id": "CtbIACFUhaqe",
        "outputId": "f925a306-c105-4ac5-8f1c-5c6b9718159b"
      },
      "source": [
        "'''\n",
        "Observing Training\n",
        "'''\n",
        "\n",
        "# accuracy\n",
        "plt.plot(history.history['accuracy'])\n",
        "plt.title('Model Accuracy')\n",
        "plt.ylabel('Accuracy')\n",
        "plt.xlabel('Epoch')\n",
        "plt.show()\n",
        "\n",
        "# loss\n",
        "plt.plot(history.history['loss'])\n",
        "plt.title('Model Loss')\n",
        "plt.ylabel('Loss')\n",
        "plt.xlabel('Epoch')\n",
        "plt.show()"
      ],
      "execution_count": 119,
      "outputs": [
        {
          "output_type": "display_data",
          "data": {
            "image/png": "[encoded data removed]",
            "text/plain": [
              "<Figure size 432x288 with 1 Axes>"
            ]
          },
          "metadata": {
            "tags": [],
            "needs_background": "light"
          }
        },
        {
          "output_type": "display_data",
          "data": {
            "image/png": "[encoded data removed]",
            "text/plain": [
              "<Figure size 432x288 with 1 Axes>"
            ]
          },
          "metadata": {
            "tags": [],
            "needs_background": "light"
          }
        }
      ]
    },
    {
      "cell_type": "code",
      "metadata": {
        "colab": {
          "base_uri": "https://localhost:8080/"
        },
        "id": "jZRZi9PRlDT4",
        "outputId": "5ce46c46-4524-42e4-f7e8-074d1042d6d6"
      },
      "source": [
        "'''\n",
        "Sample Testing\n",
        "'''\n",
        "\n",
        "samples_ind = list(range(0, 2481))\n",
        "\n",
        "for i in range(10):\n",
        "  ind = random.choice(samples_ind)\n",
        "  img = X[ind]\n",
        "  ground_truth = Y[ind]\n",
        "  print('Ground Truth:', np.argmax(ground_truth))\n",
        "\n",
        "  prediction = model.predict(X[ind:ind + 1])\n",
        "  print('Predicted Value:', np.argmax(prediction))\n",
        "\n",
        "  print()"
      ],
      "execution_count": 120,
      "outputs": [
        {
          "output_type": "stream",
          "text": [
            "Ground Truth: 44\n",
            "Predicted Value: 44\n",
            "\n",
            "Ground Truth: 30\n",
            "Predicted Value: 30\n",
            "\n",
            "Ground Truth: 14\n",
            "Predicted Value: 14\n",
            "\n",
            "Ground Truth: 18\n",
            "Predicted Value: 18\n",
            "\n",
            "Ground Truth: 26\n",
            "Predicted Value: 26\n",
            "\n",
            "Ground Truth: 44\n"
          ],
          "name": "stdout"
        },
        {
          "output_type": "stream",
          "text": [
            "/usr/local/lib/python3.7/dist-packages/tensorflow/python/data/ops/dataset_ops.py:3504: UserWarning: Even though the tf.config.experimental_run_functions_eagerly option is set, this option does not apply to tf.data functions. tf.data functions are still traced and executed as graphs.\n",
            "  \"Even though the tf.config.experimental_run_functions_eagerly \"\n"
          ],
          "name": "stderr"
        },
        {
          "output_type": "stream",
          "text": [
            "Predicted Value: 44\n",
            "\n",
            "Ground Truth: 10\n",
            "Predicted Value: 10\n",
            "\n",
            "Ground Truth: 60\n",
            "Predicted Value: 60\n",
            "\n",
            "Ground Truth: 53\n",
            "Predicted Value: 53\n",
            "\n",
            "Ground Truth: 28\n",
            "Predicted Value: 28\n",
            "\n"
          ],
          "name": "stdout"
        }
      ]
    }
  ]
}